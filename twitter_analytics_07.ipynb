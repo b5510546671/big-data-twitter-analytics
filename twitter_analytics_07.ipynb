{
 "cells": [
  {
   "cell_type": "markdown",
   "metadata": {},
   "source": [
    "# Analysis of Twitter Data\n",
    "## Geolocation and Interactive Maps\n",
    "Geolocation is the process of identifying the geographic location of an object such as a mobile phone or a computer. \n",
    "\n",
    "Twitter allows its users to provide their location when they publish a tweet, in the form of latitude and longitude coordinates. With this information, we are ready to create some nice visualisation for our data, in the form of interactive maps.\n",
    "\n",
    "This lab briefly introduces the GeoJSON format and **Leaflet.js**, a nice Javascript library for interactive maps, and discusses its integration with the Twitter data we have collected in the previous lab."
   ]
  },
  {
   "cell_type": "markdown",
   "metadata": {},
   "source": [
    "### GeoJSON\n",
    "\n",
    "GeoJSON is a format for encoding geographic data structures. The format supports a variety of geometric types that can be used to visualise the desired shapes onto a map. For our examples, we just need the simplest structure, a Point. A point is identified by its coordinates (latitude and longitude).\n",
    "\n",
    "In GeoJSON, we can also represent objects such as a Feature or a FeatureCollection. The first one is basically a geometry with additional properties, while the second one is a list of features.\n",
    "\n",
    "Our Twitter data set can be represented in GeoJSON as a FeatureCollection, where each tweet would be an individual Feature with its one geometry (the aforementioned Point).\n",
    "\n",
    "This is how the JSON structure looks like:"
   ]
  },
  {
   "cell_type": "raw",
   "metadata": {},
   "source": [
    "{\n",
    "    \"type\": \"FeatureCollection\",\n",
    "    \"features\": [\n",
    "        { \n",
    "            \"type\": \"Feature\",\n",
    "            \"geometry\": {\n",
    "                \"type\": \"Point\", \n",
    "                \"coordinates\": [some_latitude, some_longitude]\n",
    "            },\n",
    "            \"properties\": {\n",
    "                \"text\": \"This is sample a tweet\",\n",
    "                \"created_at\": \"Sat Mar 21 12:30:00 +0000 2015\"\n",
    "            }\n",
    "        },\n",
    "        /* more tweets ... */\n",
    "    ]\n",
    "}"
   ]
  },
  {
   "cell_type": "markdown",
   "metadata": {},
   "source": [
    "### From Tweets to GeoJSON\n",
    "\n",
    "Assuming the tweet data has been downloaded into a single file as described in previous lab, we simply need to iterate all the tweets looking for the coordinates field, which may or may not be present. Keep in mind that you need to use coordinates, because the geo field is deprecated (see the API).\n",
    "\n",
    "This code will read the data set, looking for tweets where the coordinates are explicitely given. Once the GeoJSON data structure is created (in the form of a Python dictionary), then the data are dumped into a file called geo_data.json:"
   ]
  },
  {
   "cell_type": "code",
   "execution_count": null,
   "metadata": {
    "collapsed": false
   },
   "outputs": [],
   "source": [
    "import json\n",
    "import sys\n",
    "\n",
    "fname = \"c:\\\\Program Files\\\\Anaconda2\\\\tweets_bigData_dataAnalytic.json\"\n",
    "f = open(fname, 'r')\n",
    "# f is the file pointer to the JSON data set\n",
    "count = 1\n",
    "\n",
    "# Tweets are stored in \"fname\"\n",
    "with open(fname, 'r') as f:\n",
    "    geo_data = {\n",
    "        \"type\": \"FeatureCollection\",\n",
    "        \"features\": []\n",
    "    }\n",
    "    tweets = []\n",
    "    geo2 = []\n",
    "    for line in f:\n",
    "        count = count + 1\n",
    "        if count%500 == 0:\n",
    "            sys.stdout.write('.')\n",
    "        if count%35000 == 0:\n",
    "            sys.stdout.write('\\n')\n",
    "        tweet = json.loads(line)\n",
    "        tweets.append(tweet)\n",
    "        if tweet['coordinates']:\n",
    "            geo_json_feature = {\n",
    "                \"type\": \"Feature\",\n",
    "                \"geometry\": tweet['coordinates'],\n",
    "                \"properties\": {\n",
    "                    \"text\": tweet['text'],\n",
    "                    \"created_at\": tweet['created_at']\n",
    "                }\n",
    "            }\n",
    "            geo_data['features'].append(geo_json_feature)\n",
    "            geo2.append(tweet['coordinates'])\n",
    "print '\\nWait..'\n",
    "# Save geo data\n",
    "with open('geo_data.json', 'w') as fout:\n",
    "    fout.write(json.dumps(geo_data, indent=4))\n",
    "    \n",
    "print 'Done..'"
   ]
  },
  {
   "cell_type": "code",
   "execution_count": null,
   "metadata": {
    "collapsed": false
   },
   "outputs": [],
   "source": [
    "import pandas as pd\n",
    "def populate_tweet_df(tweets):\n",
    "    df = pd.DataFrame()\n",
    " \n",
    "    df['text'] = list(map(lambda tweet: tweet['text'], tweets))\n",
    " \n",
    "    df['location'] = list(map(lambda tweet: tweet['user']['location'], tweets))\n",
    " \n",
    "    df['country_code'] = list(map(lambda tweet: tweet['place']['country_code']\n",
    "                                  if tweet['place'] != None else '', tweets))\n",
    " \n",
    "    df['long'] = list(map(lambda tweet: tweet['coordinates']['coordinates'][0]\n",
    "                        if tweet['coordinates'] != None else 'NaN', tweets))\n",
    " \n",
    "    df['latt'] = list(map(lambda tweet: tweet['coordinates']['coordinates'][1]\n",
    "                        if tweet['coordinates'] != None else 'NaN', tweets))\n",
    " \n",
    "    return df\n",
    "\n",
    "df = populate_tweet_df(tweets)"
   ]
  },
  {
   "cell_type": "code",
   "execution_count": null,
   "metadata": {
    "collapsed": false
   },
   "outputs": [],
   "source": [
    "print df[0:10]"
   ]
  },
  {
   "cell_type": "markdown",
   "metadata": {},
   "source": [
    "### Interactive Maps with Leaflet.js\n",
    "\n",
    "*Leaflet.js* is an open-source Javascript library for interactive maps. You can create maps with tiles of your choice (e.g. from OpenStreetMap or MapBox), and overlap interactive components.\n",
    "\n",
    "In order to prepare a web page that will host a map, you simply need to include the library and its CSS, by putting in the head section of your document the following lines:"
   ]
  },
  {
   "cell_type": "raw",
   "metadata": {},
   "source": [
    "<link rel=\"stylesheet\" href=\"http://cdnjs.cloudflare.com/ajax/libs/leaflet/0.7.3/leaflet.css\" />\n",
    "<script src=\"http://cdnjs.cloudflare.com/ajax/libs/leaflet/0.7.3/leaflet.js\"></script>\n",
    "http://cdnjs.cloudflare.com/ajax/libs/leaflet/0.7.3/leaflet.css"
   ]
  },
  {
   "cell_type": "markdown",
   "metadata": {},
   "source": [
    "Moreover, we have all our GeoJSON data in a separate file, so we want to load the data dynamically rather than manually put all the points in the map. For this purpose, we can easily play with jQuery, which we also need to include:"
   ]
  },
  {
   "cell_type": "raw",
   "metadata": {},
   "source": [
    "<script src=\"http://code.jquery.com/jquery-2.1.0.min.js\"></script>"
   ]
  },
  {
   "cell_type": "markdown",
   "metadata": {},
   "source": [
    "The map itself will be placed into a div element:"
   ]
  },
  {
   "cell_type": "raw",
   "metadata": {},
   "source": [
    "<!-- this goes in the <head> -->\n",
    "<style>\n",
    "#map {\n",
    "    height: 600px;\n",
    "}\n",
    "</style>\n",
    "<!-- this goes in the <body> -->\n",
    "<div id=\"map\"></div>"
   ]
  },
  {
   "cell_type": "markdown",
   "metadata": {},
   "source": [
    "We’re now ready to create the map with Leaflet:"
   ]
  },
  {
   "cell_type": "raw",
   "metadata": {},
   "source": [
    "// Load the tile images from OpenStreetMap\n",
    "var mytiles = L.tileLayer('http://{s}.tile.osm.org/{z}/{x}/{y}.png', {\n",
    "    attribution: '&copy; <a href=\"http://osm.org/copyright\">OpenStreetMap</a> contributors'\n",
    "});\n",
    "// Initialise an empty map\n",
    "var map = L.map('map');\n",
    "// Read the GeoJSON data with jQuery, and create a circleMarker element for each tweet\n",
    "// Each tweet will be represented by a nice red dot\n",
    "$.getJSON(\"./geo_data.json\", function(data) {\n",
    "    var myStyle = {\n",
    "        radius: 2,\n",
    "        fillColor: \"red\",\n",
    "        color: \"red\",\n",
    "        weight: 1,\n",
    "        opacity: 1,\n",
    "        fillOpacity: 1\n",
    "    };\n",
    " \n",
    "    var geojson = L.geoJson(data, {\n",
    "        pointToLayer: function (feature, latlng) {\n",
    "            return L.circleMarker(latlng, myStyle);\n",
    "        }\n",
    "    });\n",
    "    geojson.addTo(map)\n",
    "});\n",
    "// Add the tiles to the map, and initialise the view in the middle of Europe\n",
    "map.addLayer(mytiles).setView([50.5, 5.0], 5);"
   ]
  },
  {
   "cell_type": "code",
   "execution_count": null,
   "metadata": {
    "collapsed": true
   },
   "outputs": [],
   "source": []
  }
 ],
 "metadata": {
  "anaconda-cloud": {},
  "kernelspec": {
   "display_name": "Python [default]",
   "language": "python",
   "name": "python2"
  },
  "language_info": {
   "codemirror_mode": {
    "name": "ipython",
    "version": 2
   },
   "file_extension": ".py",
   "mimetype": "text/x-python",
   "name": "python",
   "nbconvert_exporter": "python",
   "pygments_lexer": "ipython2",
   "version": "2.7.12"
  }
 },
 "nbformat": 4,
 "nbformat_minor": 1
}
